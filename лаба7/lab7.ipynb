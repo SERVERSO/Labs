{
  "nbformat": 4,
  "nbformat_minor": 0,
  "metadata": {
    "colab": {
      "provenance": []
    },
    "kernelspec": {
      "name": "python3",
      "display_name": "Python 3"
    },
    "language_info": {
      "name": "python"
    }
  },
  "cells": [
    {
      "cell_type": "code",
      "execution_count": 1,
      "metadata": {
        "colab": {
          "base_uri": "https://localhost:8080/"
        },
        "id": "A35jPsXB8V3E",
        "outputId": "b05cad75-05f7-41e3-a234-9c98c45292a7"
      },
      "outputs": [
        {
          "output_type": "stream",
          "name": "stdout",
          "text": [
            "Имя сотрудника: Дмитрий Сергеевич, id сотрудника: 123\n",
            "Менеджер Дмитрий Сергеевич управляет проектом в своём отделе \"Администрация президента РФ\"\n",
            "\n",
            "Имя сотрудника: Андрей Рэмович, id сотрудника: 111\n",
            "В данный момент выполняет техническое обслуживание (МО)!\n",
            "\n",
            "Имя сотрудника: Владимир Владимирович, id сотрудника: 1\n",
            "Список подчинённых сотрудников:\n",
            "\tИмя сотрудника: Дмитрий Сергеевич, id сотрудника: 123\n",
            "\tИмя сотрудника: Андрей Рэмович, id сотрудника: 111\n"
          ]
        }
      ],
      "source": [
        "class Employee:\n",
        "    def __init__(self, name, id):\n",
        "        self.name = name\n",
        "        self.id = id\n",
        "\n",
        "    def get_info(self):\n",
        "        return f'Имя сотрудника: {self.name}, id сотрудника: {self.id}'\n",
        "\n",
        "\n",
        "class Manager(Employee):\n",
        "    def __init__(self, name, id, department):\n",
        "        super().__init__(name, id)\n",
        "        self.department = department\n",
        "\n",
        "    def manage_project(self):\n",
        "        print(f'Менеджер {self.name} управляет проектом в своём отделе \"{self.department}\"')\n",
        "\n",
        "\n",
        "class Technician(Employee):\n",
        "    def __init__(self, name, id, specialization):\n",
        "        super().__init__(name, id)\n",
        "        self.specialization = specialization\n",
        "\n",
        "    def perform_maintenance(self):\n",
        "        self.get_info()\n",
        "        print(f'В данный момент выполняет техническое обслуживание ({self.specialization})!')\n",
        "\n",
        "\n",
        "class TechManager(Manager, Technician):\n",
        "    emps = set()\n",
        "\n",
        "    def __init__(self, name, id, department, specialization):\n",
        "        Employee.__init__(self, name, id)\n",
        "        self.department = department\n",
        "        self.specialization = specialization\n",
        "\n",
        "    def manage_tech_project(self):\n",
        "        return f'Tech Manager {self.name} управляет техническим проектом в отделе \"{self.department}\" и выполняет обслуживание в области \"{self.specialization}\".'\n",
        "\n",
        "    def add_employee(self, emp):\n",
        "        TechManager.emps.add(emp)\n",
        "\n",
        "    def get_team_info(self):\n",
        "        print(\"Список подчинённых сотрудников:\")\n",
        "        for employee in TechManager.emps:\n",
        "            print('\\t'+employee.get_info())\n",
        "\n",
        "\n",
        "\n",
        "Peskov = Manager('Дмитрий Сергеевич', '123', 'Администрация президента РФ')\n",
        "print(Peskov.get_info())\n",
        "Peskov.manage_project()\n",
        "\n",
        "Belousov = Technician(\"Андрей Рэмович\", \"111\", 'МО')\n",
        "print('\\n'+Belousov.get_info())\n",
        "Belousov.perform_maintenance()\n",
        "\n",
        "\n",
        "Putin = TechManager('Владимир Владимирович', '1', 'Администрация РФ', 'Президент')\n",
        "\n",
        "print('\\n'+Putin.get_info())\n",
        "Putin.add_employee(Peskov)\n",
        "Putin.add_employee(Belousov)\n",
        "\n",
        "Putin.get_team_info()"
      ]
    }
  ]
}